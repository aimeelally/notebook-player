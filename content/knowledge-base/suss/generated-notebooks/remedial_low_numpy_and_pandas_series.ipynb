{
 "cells": [
  {
   "cell_type": "markdown",
   "id": "24293098",
   "metadata": {},
   "source": [
    "# Introduction to Numpy and Pandas\n",
    "Numpy is a Python library for performing mathematical operations on arrays and matrices. The Pandas library in Python allows for data manipulation and analysis. It offers data structures and operations for manipulating numerical tables and time series. At the core of the pandas data model is the pandas series that, in turn, is built on the numpy array.\n",
    "\n",
    "Let's dive deeper into the different components to fully understand the Numpy and Pandas series."
   ]
  },
  {
   "cell_type": "code",
   "execution_count": null,
   "id": "efc972b3",
   "metadata": {},
   "outputs": [],
   "source": [
    "import numpy as np\n",
    "import pandas as pd"
   ]
  },
  {
   "cell_type": "markdown",
   "id": "82160e64",
   "metadata": {},
   "source": [
    "## Converting a list into a numpy array or matrix\n",
    "\n",
    "Numpy arrays are homogenous multi-dimensional array created from Python lists. They allow for mathematical operations to be performed element-wise. In the code below, we create two Python lists, `mylist` and `mylist1`, that we convert into numpy arrays using `np.array()`."
   ]
  },
  {
   "cell_type": "code",
   "execution_count": null,
   "id": "86da8da3",
   "metadata": {},
   "outputs": [],
   "source": [
    "mylist = list(range(0,5))\n",
    "mynlist = [list(range(0,5)), list(range(5,10)), list(range(10,15))]\n",
    "\n",
    "myarray = np.array(mylist)  \n",
    "mymat = np.array(mynlist)"
   ]
  },
  {
   "cell_type": "markdown",
   "id": "6c0267df",
   "metadata": {},
   "source": [
    "numpy.ndarray is the type of the output array created and also determines the type of the array elements. This demonstrates how Python lists are converted into numpy arrays.\n",
    "\n",
    "## Construct a Numpy array using sequence of numbers\n",
    "\n",
    "The `np.arange()` function is commonly used in numpy to generate an array of evenly spaced values within a specified interval. In this example, the function generates values from 0 to 10 and 0 up to 10 in increments of 2."
   ]
  },
  {
   "cell_type": "code",
   "execution_count": null,
   "id": "84be50bf",
   "metadata": {},
   "outputs": [],
   "source": [
    "myarray2 = np.arange(0,10)\n",
    "myarray3 =  np.arange(0,10,2)"
   ]
  },
  {
   "cell_type": "markdown",
   "id": "3bff5613",
   "metadata": {},
   "source": [
    "This illustrates how a sequence of numbers in a specific interval can be converted into a numpy array.\n",
    "\n",
    "## Performing operations on numpy array elements\n",
    "\n",
    "A key difference between Python lists and Numpy arrays is that mathematical operations are broadcasted to each element of the numpy arrays. This means that operations done on the numpy array are done element-wise and there is no need to loop over each element."
   ]
  },
  {
   "cell_type": "code",
   "execution_count": null,
   "id": "51a372fe",
   "metadata": {},
   "outputs": [],
   "source": [
    "myarray*2"
   ]
  },
  {
   "cell_type": "markdown",
   "id": "dfd17ae2",
   "metadata": {},
   "source": [
    "On executing this, each element of `myarray` is doubled. It offers much faster execution time than looping over each item of list in pure Python, especially for large arrays.\n",
    "\n",
    "## Constructing and Manipulating Pandas Series\n",
    "\n",
    "A pandas series is essentially a column in an Excel Sheet. Pandas series is a one-dimensional labeled array that can hold data of any type (integer, string, float, etc.)."
   ]
  },
  {
   "cell_type": "code",
   "execution_count": null,
   "id": "86f877b2",
   "metadata": {},
   "outputs": [],
   "source": [
    "myarray1 = np.random.randint(50, 101, 5)\n",
    "class_names = [\"Abe\", \"Ben\", \"Carl\", \"Dee\", \"Eun\"] \n",
    "\n",
    "myseries1 = pd.Series(myarray1, index = class_names)"
   ]
  },
  {
   "cell_type": "markdown",
   "id": "f188cd5c",
   "metadata": {},
   "source": [
    "In the code above, we created a pandas series `myseries1`, with the `class_names` as the index. Unlike numpy arrays, each element in a pandas series has a unique label that can be used to access the element. This series is essentially a one-dimensional labeled array.\n",
    "\n",
    "---\n",
    "With understanding the fundamentals of Numpy and Pandas series, you can now perform mathematical operations on large arrays, manipulate data, and perform a variety of data analysis tasks with ease."
   ]
  }
 ],
 "metadata": {},
 "nbformat": 4,
 "nbformat_minor": 5
}
