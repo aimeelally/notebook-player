{
 "cells": [
  {
   "cell_type": "markdown",
   "id": "fada5dad",
   "metadata": {},
   "source": [
    "# Regression Principles \n",
    "\n",
    "## Regression vs Classification\n",
    "\n",
    "Supervised learning can be broadly classified into regression or classification problems. Regression models the relationship between a continuous target variable (often denoted as 𝑌) and a set of independent variables (often denoted as 𝐗), while classification models apply when the target variable is binary.\n",
    "\n",
    "Summary:\n",
    "The aim of regression is to find the mathematical relationship between a dependent and one or more independent variables. When the target variable is binary, we use classification models, such as classification trees and logistic regression."
   ]
  },
  {
   "cell_type": "code",
   "execution_count": null,
   "id": "ca80bea1",
   "metadata": {},
   "outputs": [],
   "source": [
    "# Dataset example creation\n",
    "set.seed(123)\n",
    "df <- data.frame(dependent_var = rnorm(100),\n",
    "                 independent_var1 = rnorm(100),\n",
    "                 independent_var2 = rnorm(100))\n",
    "\n",
    "# This model is a regression model since the dependent variable is continuous\n",
    "# We use the `lm()` function in  to fit the regression\n",
    "model <- lm(dependent_var ~ independent_var1 + independent_var2, data = df)\n",
    "\n",
    "# Check the summary of the model\n",
    "summary(model)"
   ]
  },
  {
   "cell_type": "markdown",
   "id": "8ff7aed2",
   "metadata": {},
   "source": [
    "The above code first creates a dataset with a continuous dependent variable and two independent variables. We then use R's built-in `lm()` function to fit a linear regression model to this dataset. The `summary()` function provides detailed information on the fitted model.\n",
    "\n",
    "## Linear Regression\n",
    "\n",
    "Linear Regression is a widely used regression technique. When we represent 𝑓(𝐗) using a linear function, the multiple linear regression equation appears.\n",
    "\n",
    "Summary:\n",
    "Linear regression estimates the relationship between the dependent variable (Y) and one or multiple independent variables (X) by fitting a linear equation to observed data."
   ]
  },
  {
   "cell_type": "code",
   "execution_count": null,
   "id": "27260e47",
   "metadata": {},
   "outputs": [],
   "source": [
    "# Simple Linear egression\n",
    "# Here we consider only one independent variable\n",
    "# We use the `lm()` function in  to fit the regression\n",
    "simple_model <- lm(dependent_var ~ independent_var1, data = df)\n",
    "\n",
    "# Check the summary of the model\n",
    "summary(simple_model)"
   ]
  },
  {
   "cell_type": "markdown",
   "id": "b5168c09",
   "metadata": {},
   "source": [
    "The code above fits a simple linear regression model on the dataset which includes one dependent variable and one independent variable. The `lm()` function is used to fit the model, and the `summary()` function provides a detailed summary of the model. \n",
    "\n",
    "## Model Fitting\n",
    "\n",
    "Model fitting involves choosing the model parameters to minimize the sum of squared errors over all observations. The procedure of estimating these parameters is called Ordinary Least Squares (OLS) regression.\n",
    "\n",
    "Summary:\n",
    "Model Fitting implies determining the most optimal set of parameters for a model. This is done by minimising the Residual Sum of Squares (RSS) which measures the amount of variance unexplained by the model."
   ]
  },
  {
   "cell_type": "code",
   "execution_count": null,
   "id": "55324a56",
   "metadata": {},
   "outputs": [],
   "source": [
    "# The residuals of the model, can be accessed with residuals(). It calculates the difference of predicted from actual Y\n",
    "model_residuals <- residuals(model)"
   ]
  },
  {
   "cell_type": "markdown",
   "id": "e6826aeb",
   "metadata": {},
   "source": [
    "The above code calculates the residuals of the model that we fitted earlier. Residuals are the differences between the observed and predicted values of the target variable, and they are used to understand the discrepancy between the model predictions and the actual data.\n",
    "\n",
    "## Principles of Least Squares and Prediction\n",
    "\n",
    "To make predictions with the estimated model, we use the Ordinary Least Squares (OLS) estimates.\n",
    "\n",
    "Summary:\n",
    "Once we have the model fitted, we can make predictions by plugging the observed values of X into the estimated model. The estimated model minimizes the sum of squared residuals."
   ]
  },
  {
   "cell_type": "code",
   "execution_count": null,
   "id": "30c8d6d7",
   "metadata": {},
   "outputs": [],
   "source": [
    "# Predicting values with the model\n",
    "newdata <- data.frame(independent_var1 = rnorm(10),\n",
    "                      independent_var2 = rnorm(10))\n",
    "predicted_y <- predict(model, newdata)"
   ]
  },
  {
   "cell_type": "markdown",
   "id": "7bfc3cb5",
   "metadata": {},
   "source": [
    "The above code first creates a new dataset with the same structure as the original one. We then use the `predict()` function to predict the dependent variable for the new data using the fitted model. \n",
    "\n",
    "## Use of p-values in Hypothesis Testing\n",
    "\n",
    "P-values are used in hypothesis testing to decide whether to reject the null hypothesis. The null hypothesis usually states that there is no relationship between the independent and dependent variables.\n",
    "\n",
    "Summary:\n",
    "P-value is used to determine the statistical significance of the estimated coefficients of the model. If the p-value is less than the level of significance (usually 0.05), we reject the null hypothesis, indicating that there is evidence of a relationship between the variables."
   ]
  },
  {
   "cell_type": "code",
   "execution_count": null,
   "id": "8b5b8150",
   "metadata": {},
   "outputs": [],
   "source": [
    "# From the summary of the model we can select the p-value\n",
    "pvalues <- summary(model)$coefficients[, 4]"
   ]
  },
  {
   "cell_type": "markdown",
   "id": "6d577746",
   "metadata": {},
   "source": [
    "The above code snippet extracts the p-values of the model coefficients from the model summary. These p-values are used to test the null hypothesis that the respective coefficient is zero, i.e., the corresponding variable has no effect on the dependent variable.\n",
    "\n",
    "## Interpretation of Coefficients\n",
    "\n",
    "The regression coefficients represent the average change in the dependent variable for one unit of change in the independent variable while holding other independent variables constant.\n",
    "\n",
    "Summary:\n",
    "The coefficients of the model capture the quantitative effect of the independent variables on the dependent variable."
   ]
  },
  {
   "cell_type": "code",
   "execution_count": null,
   "id": "4288a2ea",
   "metadata": {},
   "outputs": [],
   "source": [
    "# Extract regression coefficients\n",
    "coefficients <- coef(model)"
   ]
  },
  {
   "cell_type": "markdown",
   "id": "64472ac3",
   "metadata": {},
   "source": [
    "The above code snippet extracts the coefficients of the independent variables from the fitted model. These coefficients tell us about the relationship between each independent variable and the dependent variable, while keeping other variables constant.\n",
    "\n",
    "## Assessing Model Performance\n",
    "\n",
    "R-squared (R^2) is a statistic that provides a measure of how well the regression line approximates the actual data points.\n",
    "\n",
    "Summary:\n",
    "R-squared explains how much variability of the dependent variable can be explained by the model."
   ]
  },
  {
   "cell_type": "code",
   "execution_count": null,
   "id": "d0e15151",
   "metadata": {},
   "outputs": [],
   "source": [
    "# Extract -squared from the summary\n",
    "r_squared <- summary(model)$r.squared"
   ]
  },
  {
   "cell_type": "markdown",
   "id": "7ffbce94",
   "metadata": {},
   "source": [
    "The code above extracts the R-squared statistic from the summary of the fitted model. The R-squared statistic indicates how well the model fits the data."
   ]
  }
 ],
 "metadata": {},
 "nbformat": 4,
 "nbformat_minor": 5
}
